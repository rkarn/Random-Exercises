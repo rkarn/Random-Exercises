{
 "cells": [
  {
   "cell_type": "code",
   "execution_count": 11,
   "metadata": {
    "collapsed": true
   },
   "outputs": [],
   "source": [
    "#https://medium.com/unit8-machine-learning-publication/computing-the-jacobian-matrix-of-a-neural-network-in-python-4f162e5db180\n",
    "import numpy as np\n",
    "N = 500  # Input size\n",
    "H = 100  # Hidden layer size\n",
    "M = 20   # Output size\n",
    "w1 = np.random.randn(N, H)  # first affine layer weights\n",
    "b1 = np.random.randn(H)     # first affine layer bias\n",
    "w2 = np.random.randn(H, M)  # second affine layer weights\n",
    "b2 = np.random.randn(M)     # second affine layer bias"
   ]
  },
  {
   "cell_type": "code",
   "execution_count": 12,
   "metadata": {},
   "outputs": [
    {
     "name": "stdout",
     "output_type": "stream",
     "text": [
      "WARNING:tensorflow:From /home/ubuntu/anaconda2/lib/python2.7/site-packages/tensorflow/python/util/tf_should_use.py:175: initialize_all_variables (from tensorflow.python.ops.variables) is deprecated and will be removed after 2017-03-02.\n",
      "Instructions for updating:\n",
      "Use `tf.global_variables_initializer` instead.\n"
     ]
    }
   ],
   "source": [
    "import tensorflow as tf\n",
    "from keras.layers import Dense\n",
    "import keras\n",
    "sess = tf.InteractiveSession()\n",
    "sess.run(tf.initialize_all_variables())\n",
    "model = keras.models.Sequential()\n",
    "model.add(Dense(H, activation='relu', kernel_initializer='random_uniform', use_bias=True, input_dim=N))\n",
    "model.add(Dense(M, activation='softmax', kernel_initializer='random_uniform', use_bias=True, input_dim=M))\n"
   ]
  },
  {
   "cell_type": "code",
   "execution_count": 13,
   "metadata": {},
   "outputs": [
    {
     "name": "stdout",
     "output_type": "stream",
     "text": [
      "_________________________________________________________________\n",
      "Layer (type)                 Output Shape              Param #   \n",
      "=================================================================\n",
      "dense_3 (Dense)              (None, 100)               50100     \n",
      "_________________________________________________________________\n",
      "dense_4 (Dense)              (None, 20)                2020      \n",
      "=================================================================\n",
      "Total params: 52,120\n",
      "Trainable params: 52,120\n",
      "Non-trainable params: 0\n",
      "_________________________________________________________________\n"
     ]
    }
   ],
   "source": [
    "model.summary()\n",
    "All_parameters = model.get_weights()"
   ]
  },
  {
   "cell_type": "code",
   "execution_count": 14,
   "metadata": {
    "collapsed": true
   },
   "outputs": [],
   "source": [
    "def jacobian_tensorflow(x):    \n",
    "    jacobian_matrix = []\n",
    "    for m in range(M):\n",
    "        # We iterate over the M elements of the output vector\n",
    "        grad_func = tf.gradients(model.output[:, m], model.input)\n",
    "        gradients = sess.run(grad_func, feed_dict={model.input: x.reshape((1, x.size))})\n",
    "        jacobian_matrix.append(gradients[0][0,:])\n",
    "        \n",
    "    return np.array(jacobian_matrix)\n",
    "\n",
    "def is_jacobian_correct(jacobian_fn, ffpass_fn):\n",
    "    \"\"\" Check of the Jacobian using numerical differentiation\n",
    "    \"\"\"\n",
    "    x = np.random.random((N,))\n",
    "    epsilon = 1e-5\n",
    "    \"\"\" Check a few columns at random\n",
    "    \"\"\"\n",
    "    for idx in np.random.choice(N, 5, replace=False):\n",
    "        x2 = x.copy()\n",
    "        x2[idx] += epsilon\n",
    "        num_jacobian = (ffpass_fn(x2) - ffpass_fn(x)) / epsilon\n",
    "        computed_jacobian = jacobian_fn(x)\n",
    "        \n",
    "        if not all(abs(computed_jacobian[:, idx] - num_jacobian) < 1e-3): \n",
    "            return False\n",
    "    return True\n",
    "\n",
    "def ffpass_tf(x):\n",
    "    \"\"\" The feedforward function of our neural net\n",
    "    \"\"\"    \n",
    "    xr = x.reshape((1, x.size))\n",
    "    return model.predict(xr)[0]"
   ]
  },
  {
   "cell_type": "code",
   "execution_count": 15,
   "metadata": {},
   "outputs": [
    {
     "data": {
      "text/plain": [
       "(1, 500)"
      ]
     },
     "execution_count": 15,
     "metadata": {},
     "output_type": "execute_result"
    }
   ],
   "source": [
    "is_jacobian_correct(jacobian_tensorflow, ffpass_tf)\n",
    "x0=np.random.rand(1,500)\n",
    "x0.shape"
   ]
  },
  {
   "cell_type": "code",
   "execution_count": 16,
   "metadata": {},
   "outputs": [
    {
     "name": "stdout",
     "output_type": "stream",
     "text": [
      "It took 1.175 s. to compute the Jacobian matrix\n"
     ]
    }
   ],
   "source": [
    "import time\n",
    "tic = time.time()\n",
    "jacobian_tf = jacobian_tensorflow(x0)\n",
    "tac = time.time()\n",
    "print('It took %.3f s. to compute the Jacobian matrix' % (tac-tic))"
   ]
  },
  {
   "cell_type": "code",
   "execution_count": 20,
   "metadata": {},
   "outputs": [
    {
     "data": {
      "text/plain": [
       "((20, 500), 10000)"
      ]
     },
     "execution_count": 20,
     "metadata": {},
     "output_type": "execute_result"
    }
   ],
   "source": [
    "jacobian_tf.shape, jacobian_tf.size"
   ]
  },
  {
   "cell_type": "code",
   "execution_count": 18,
   "metadata": {},
   "outputs": [
    {
     "data": {
      "text/plain": [
       "19"
      ]
     },
     "execution_count": 18,
     "metadata": {},
     "output_type": "execute_result"
    }
   ],
   "source": [
    "from numpy.linalg import matrix_rank\n",
    "matrix_rank(jacobian_tf)"
   ]
  },
  {
   "cell_type": "code",
   "execution_count": 22,
   "metadata": {},
   "outputs": [
    {
     "name": "stdout",
     "output_type": "stream",
     "text": [
      "0.0\n"
     ]
    }
   ],
   "source": [
    "#Sparsity of matrix: The sparsity of a matrix can be quantified with a score, which is the number of zero values in the matrix divided by the total number of elements in the matrix.\n",
    "#https://machinelearningmastery.com/sparse-matrices-for-machine-learning/\n",
    "sparsity = 1.0 - np.count_nonzero(jacobian_tf) / jacobian_tf.size\n",
    "print(sparsity)"
   ]
  },
  {
   "cell_type": "code",
   "execution_count": null,
   "metadata": {
    "collapsed": true
   },
   "outputs": [],
   "source": []
  }
 ],
 "metadata": {
  "kernelspec": {
   "display_name": "Python 2",
   "language": "python",
   "name": "python2"
  },
  "language_info": {
   "codemirror_mode": {
    "name": "ipython",
    "version": 2
   },
   "file_extension": ".py",
   "mimetype": "text/x-python",
   "name": "python",
   "nbconvert_exporter": "python",
   "pygments_lexer": "ipython2",
   "version": "2.7.13"
  }
 },
 "nbformat": 4,
 "nbformat_minor": 2
}
